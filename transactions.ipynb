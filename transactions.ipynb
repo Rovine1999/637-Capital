{
 "cells": [
  {
   "cell_type": "markdown",
   "metadata": {},
   "source": [
    "# Transactions"
   ]
  },
  {
   "cell_type": "code",
   "execution_count": 1,
   "metadata": {},
   "outputs": [],
   "source": [
    "# Create an account class to a low transactions\n",
    "class Account:\n",
    "\n",
    "    def __init__(self, account_name, balance):\n",
    "        self.account_name = account_name\n",
    "        self.balance = balance\n",
    "\n",
    "    def withdraw(self, amount): # function for withdraw\n",
    "        if amount <= self.balance:\n",
    "            self.balance -= amount\n",
    "             \n",
    "    def deposit(self, amount): # function for deposit\n",
    "        self.balance += amount\n",
    "    \n",
    "    def transfer(self, amount, to_who): # function for transfer\n",
    "        if amount <= self.balance:\n",
    "            if type(to_who) == Account:\n",
    "                self.balance -= amount\n",
    "                to_who.balance += amount\n",
    "   \n",
    "            "
   ]
  },
  {
   "cell_type": "code",
   "execution_count": 2,
   "metadata": {},
   "outputs": [],
   "source": [
    "# Instantiate the three accounts for each person\n",
    "Wanjiru = Account('Wanjiru', 0)\n",
    "Juma = Account('Juma', 0)\n",
    "Linda = Account('Linda', 0)"
   ]
  },
  {
   "cell_type": "code",
   "execution_count": 3,
   "metadata": {},
   "outputs": [],
   "source": [
    "# Instantiate account dictionary with key to associate account name to account instance\n",
    "account_dict = {'Wanjiru': Wanjiru, 'Juma': Juma, 'Linda':Linda}"
   ]
  },
  {
   "cell_type": "code",
   "execution_count": 4,
   "metadata": {},
   "outputs": [],
   "source": [
    "# carry out the transactions in the txt file as the dataset\n",
    "with open('Input Text.txt', 'r') as text_file: # load and read the file\n",
    "    transactions = text_file.readlines() # read text file line by line\n",
    "    for transaction in transactions: # create a loop to loop through the transactions of each person\n",
    "        temp_values = transaction.split(':')\n",
    "        if temp_values[0].lower() == 'deposit': # condition for deposit amount\n",
    "            deposit_amount = float(temp_values[2].split('\\n')[0])\n",
    "            account_dict[temp_values[1]].deposit(deposit_amount)\n",
    "        \n",
    "        elif temp_values[0].lower() == 'withdraw': # condition for withdrawal amount\n",
    "            withdraw_amount = float(temp_values[2].split('\\n')[0])\n",
    "            account_dict[temp_values[1]].withdraw(withdraw_amount)\n",
    "        \n",
    "        elif temp_values[0].lower() == 'transfer': # condition for transfer amount\n",
    "            transfer_amount = float(temp_values[3].split('\\n')[0])\n",
    "            recipient = account_dict[temp_values[2]]\n",
    "            sender = account_dict[temp_values[1]]\n",
    "            sender.transfer(transfer_amount, recipient)\n",
    "\n",
    "\n",
    "                \n",
    "        \n"
   ]
  },
  {
   "cell_type": "code",
   "execution_count": 5,
   "metadata": {},
   "outputs": [
    {
     "name": "stdout",
     "output_type": "stream",
     "text": [
      "Linda's balance is 1292.0\n",
      "Juma's balance is 4670.51\n",
      "Wanjiru's balance is 599.5\n"
     ]
    }
   ],
   "source": [
    "# Get balances of each person\n",
    "print(f'Linda\\'s balance is {Linda.balance}')\n",
    "print(f'Juma\\'s balance is {Juma.balance}')\n",
    "print(f'Wanjiru\\'s balance is {Wanjiru.balance}')"
   ]
  },
  {
   "cell_type": "code",
   "execution_count": null,
   "metadata": {},
   "outputs": [],
   "source": []
  }
 ],
 "metadata": {
  "interpreter": {
   "hash": "916dbcbb3f70747c44a77c7bcd40155683ae19c65e1c03b4aa3499c5328201f1"
  },
  "kernelspec": {
   "display_name": "Python 3.9.7 64-bit",
   "language": "python",
   "name": "python3"
  },
  "language_info": {
   "codemirror_mode": {
    "name": "ipython",
    "version": 3
   },
   "file_extension": ".py",
   "mimetype": "text/x-python",
   "name": "python",
   "nbconvert_exporter": "python",
   "pygments_lexer": "ipython3",
   "version": "3.9.7"
  },
  "orig_nbformat": 4
 },
 "nbformat": 4,
 "nbformat_minor": 2
}
